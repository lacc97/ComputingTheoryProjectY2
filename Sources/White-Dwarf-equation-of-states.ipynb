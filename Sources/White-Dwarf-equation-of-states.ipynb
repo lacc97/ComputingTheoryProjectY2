{
 "cells": [
  {
   "cell_type": "markdown",
   "metadata": {},
   "source": [
    "###### The RK4 method\n",
    "This codes uses the RK4 method to integrate the EoM for the classical harmonic oscilator with mass $m=1$\n",
    "and frequency squared ($\\omega^2$) denoted by om2.\n",
    "\n",
    "This code makes extensive use of numpy arrays (extension of python lists).\n",
    "\n",
    "Tested with python 3.6\n"
   ]
  },
  {
   "cell_type": "markdown",
   "metadata": {},
   "source": [
    "First import the important libraries"
   ]
  },
  {
   "cell_type": "code",
   "execution_count": 2,
   "metadata": {},
   "outputs": [],
   "source": [
    "import numpy as np\n",
    "import matplotlib.pyplot as plt\n",
    "import math\n",
    "#make sure all the plots appear inline\n",
    "%matplotlib inline"
   ]
  },
  {
   "cell_type": "code",
   "execution_count": 3,
   "metadata": {},
   "outputs": [],
   "source": [
    "# Defines physical constants\n",
    "hbar=1.055*10**(-34)\n",
    "c=299792458\n",
    "pi=np.math.pi\n",
    "M0=1.989*10**(30)\n",
    "G=6.674*10**(-11)\n",
    "R0=G*M0/c**2 /1000\n",
    "# Atomic number of nucleus comprising the star\n",
    "Z=26\n",
    "# Mass number of nucleus comprising the star\n",
    "A=56\n",
    "m_N=1.661*10**(-27)\n",
    "m_e=9.109*10**(-31)"
   ]
  },
  {
   "cell_type": "code",
   "execution_count": 4,
   "metadata": {},
   "outputs": [],
   "source": [
    "#function to calculate derivatives for h.osc.\n",
    "#y[0]=P\n",
    "#y[1]=M\n",
    "def deriv(y,t,alpha,beta,gamma):\n",
    "    return np.array([-alpha*y[0]**(1/gamma)*y[1]/t**2, beta*t**2*y[0]**(1/gamma)])"
   ]
  },
  {
   "cell_type": "code",
   "execution_count": 5,
   "metadata": {},
   "outputs": [],
   "source": [
    "#rk4 does a single RK4 step\n",
    "def rk4(y,dy,t,h,a,b,c):\n",
    "    k1=dy(y,t,a,b,c)\n",
    "    k2=dy(y+h/2*k1,t+h/2,a,b,c)\n",
    "    k3=dy(y+h/2*k2,t+h/2,a,b,c)\n",
    "    k4=dy(y+h*k3,t+h,a,b,c)\n",
    "    y=y+h*(k1+2*k2+2*k3+k4)/6\n",
    "    t=t+h\n",
    "    return (t,y)"
   ]
  },
  {
   "cell_type": "code",
   "execution_count": 6,
   "metadata": {},
   "outputs": [],
   "source": [
    "def solveEOS(P,alpha,gamma):\n",
    "    # Solves equation of states for given value of initial pressure [P], [alpha] value and for [gamma]. \n",
    "    # [gamma] values of only 4/3 and 5/3 are allowed, relativistic and non-relativistic respectively.\n",
    "    # Beta value is calculated for given alpha.\n",
    "    # Appropriate K(Rel or Non-Rel) is choosed based on the choice of gamma.\n",
    "    # Returns the radius [R] and the mass [M] of the star, \n",
    "    # Also returns the pressure and the mass of the star as a function of radius, [Ps] and [Ms] in nympy array in [ys].\n",
    "    \n",
    "    y=np.array([P,0])  # starting value for P and M\n",
    "    r=0.000001                  # starting radius. Didn't choose 0 because there would be division by 0.\n",
    "    h=1               # step size\n",
    "    rmax=400000              # set max radius to avoid integrating until the end of time\n",
    "    rs=np.array([r])     # to store all radius\n",
    "    ys=np.array([y])     # and all solution points\n",
    "\n",
    "    # Set beta and gamma    \n",
    "    if gamma==5/3:\n",
    "        K = hbar**2 / (15*pi**2*m_e) * (3*pi**2*Z / (A*m_N*c**2))**(5/3) # for non-relativistic case\n",
    "        #print('Non-Rel!')\n",
    "    elif gamma==4/3:\n",
    "        K = hbar*c/(12*pi**2) * (3*pi**2*Z / (A*m_N*c**2))**(4/3)\n",
    "        #print(\"Rel!\")\n",
    "    \n",
    "    epsil0 = (1/K * (R0/alpha)**gamma)**(1/(gamma-1))\n",
    "    beta = 4*pi*epsil0 / (M0*c**2*(K*epsil0**(gamma-1))**(1/gamma)) *10**9\n",
    "\n",
    "    #print(beta)\n",
    "\n",
    "\n",
    "    for i in range(int(rmax/h)):  # take enough steps (or so)\n",
    "        (r,y)=rk4(y,deriv,r,h,alpha,beta,gamma)\n",
    "        if math.isnan(y[0]):\n",
    "            R=r\n",
    "            break\n",
    "        rs=np.append(rs,r)\n",
    "        ys=np.concatenate((ys,np.array([y])))    \n",
    "        M=y[1]\n",
    "        \n",
    "    return (R,M,ys,rs)"
   ]
  },
  {
   "cell_type": "markdown",
   "metadata": {},
   "source": [
    "# Choosing alpha"
   ]
  },
  {
   "cell_type": "code",
   "execution_count": 7,
   "metadata": {},
   "outputs": [
    {
     "data": {
      "image/png": "[encoded data removed]",
      "text/plain": [
       "<Figure size 432x288 with 1 Axes>"
      ]
     },
     "metadata": {
      "needs_background": "light"
     },
     "output_type": "display_data"
    }
   ],
   "source": [
    "# Make a plot of alpha vs beta. We use this plot to choose the optimal scaling, ie when alpha ~ beta and are close to 1.\n",
    "gamma=5/3     # 4/3 if relativistc, 5/3 if non-relativistc\n",
    "alphat=np.arange(0.01,0.1,0.001)\n",
    "#alphat=0.05\n",
    "if gamma==5/3:\n",
    "    K = hbar**2 / (15*pi**2*m_e) * (3*pi**2*Z / (A*m_N*c**2))**(5/3) # for non-relativistic case\n",
    "elif gamma==4/3:\n",
    "    K = hbar*c/(12*pi**2) * (3*pi**2*Z / (A*m_N*c**2))**(4/3)\n",
    "epsil0 = (1/K * (R0/alphat)**gamma)**(1/(gamma-1))\n",
    "betat = 4*pi*epsil0 / (M0*c**2*(K*epsil0**(gamma-1))**(1/gamma)) *10**9\n",
    "\n",
    "#print(R0)\n",
    "#print(epsil0)\n",
    "#print(betat)\n",
    "plt.figure()\n",
    "plt.plot(alphat,betat)\n",
    "plt.xlabel('alpha')\n",
    "plt.ylabel('beta')\n",
    "plt.grid()"
   ]
  },
  {
   "cell_type": "markdown",
   "metadata": {},
   "source": [
    "# Run the RK4\n",
    " "
   ]
  },
  {
   "cell_type": "code",
   "execution_count": 8,
   "metadata": {},
   "outputs": [
    {
     "name": "stderr",
     "output_type": "stream",
     "text": [
      "/usr/lib/python3.7/site-packages/ipykernel_launcher.py:5: RuntimeWarning: invalid value encountered in double_scalars\n",
      "  \"\"\"\n"
     ]
    }
   ],
   "source": [
    "# Call the function to perform the numerical calculation of the equation of state\n",
    "P=10**(-14)     # the choice of the initial pressure\n",
    "alpha=1.437     # the choice of alpha for the scaling\n",
    "gamma=4/3     # 4/3 for relativistic case, 5/3 for non-relativistic case\n",
    "\n",
    "(R,M,ys,rs)=solveEOS(P,alpha,gamma) # returns radius M, mass M. Also returns the pressure and mass in array ys, and radius rs."
   ]
  },
  {
   "cell_type": "markdown",
   "metadata": {},
   "source": [
    "# Plot the result"
   ]
  },
  {
   "cell_type": "code",
   "execution_count": 9,
   "metadata": {},
   "outputs": [
    {
     "data": {
      "text/plain": [
       "Text(0, 0.5, 'Mass')"
      ]
     },
     "execution_count": 9,
     "metadata": {},
     "output_type": "execute_result"
    },
    {
     "data": {
      "image/png": "[encoded data removed]",
      "text/plain": [
       "<Figure size 432x288 with 1 Axes>"
      ]
     },
     "metadata": {
      "needs_background": "light"
     },
     "output_type": "display_data"
    },
    {
     "data": {
      "image/png": "[encoded data removed]",
      "text/plain": [
       "<Figure size 432x288 with 1 Axes>"
      ]
     },
     "metadata": {
      "needs_background": "light"
     },
     "output_type": "display_data"
    }
   ],
   "source": [
    "[Ps,Ms]=ys.transpose()\n",
    "\n",
    "# Scale the radius back\n",
    "#rs=rs*R0/alpha\n",
    "#R=R*R0/alpha\n",
    "\n",
    "\n",
    "plt.figure()\n",
    "plt.title('White dwarf relativistic case')\n",
    "plt.plot(rs, Ps)\n",
    "plt.xlabel('R(km)')\n",
    "plt.ylabel('Pressure')\n",
    "\n",
    "plt.figure()\n",
    "plt.title('White dwarf relativistic case')\n",
    "plt.plot(rs, Ms)\n",
    "plt.xlabel('R(km)')\n",
    "plt.ylabel('Mass')\n",
    "\n",
    "\n",
    "#fig1, ax1 = plt.subplots(1, 1)\n",
    "#ax1.plot(rs, P, label='Pressure')\n",
    "#ax1.plot(rs, M, label='Mass')\n",
    "#ax1.legend(loc='upper center', shadow=True, fontsize='large')\n",
    "#ax1.set_xlabel(\"R (km)\",fontsize='large')\n",
    "#plt.show()\n"
   ]
  },
  {
   "cell_type": "code",
   "execution_count": 10,
   "metadata": {},
   "outputs": [
    {
     "name": "stderr",
     "output_type": "stream",
     "text": [
      "/usr/lib/python3.7/site-packages/ipykernel_launcher.py:5: RuntimeWarning: invalid value encountered in double_scalars\n",
      "  \"\"\"\n"
     ]
    }
   ],
   "source": [
    "alpha=3.75     # the choice of alpha for the scaling\n",
    "gamma=4/3\n",
    "\n",
    "Ps=[10**(-13),10**(-14),10**(-15),10**(-16)]\n",
    "\n",
    "f=open('output.txt','w')\n",
    "f.write('{0:>15} | {1:>15} | {2:>15}\\n'.format('Cetral pressure','Radius(km)','Mass(Solar mass)'))\n",
    "\n",
    "for P in Ps:\n",
    "    (R,M,ys,rs)=solveEOS(P,alpha,gamma)\n",
    "    #R=R*(R0/alpha)\n",
    "    f.write('{0:15e} | {1:15f} | {2:15f}\\n'.format(P,R,M))\n",
    "    \n",
    "f.close()"
   ]
  },
  {
   "cell_type": "code",
   "execution_count": null,
   "metadata": {},
   "outputs": [],
   "source": []
  }
 ],
 "metadata": {
  "kernelspec": {
   "display_name": "Python 3",
   "language": "python",
   "name": "python3"
  },
  "language_info": {
   "codemirror_mode": {
    "name": "ipython",
    "version": 3
   },
   "file_extension": ".py",
   "mimetype": "text/x-python",
   "name": "python",
   "nbconvert_exporter": "python",
   "pygments_lexer": "ipython3",
   "version": "3.7.2"
  }
 },
 "nbformat": 4,
 "nbformat_minor": 2
}
